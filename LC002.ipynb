{
 "cells": [
  {
   "cell_type": "code",
   "execution_count": null,
   "metadata": {},
   "outputs": [],
   "source": [
    "import list_tool"
   ]
  },
  {
   "cell_type": "code",
   "execution_count": 2,
   "metadata": {},
   "outputs": [],
   "source": [
    "class ListNode:\n",
    "    def __init__(self, x):\n",
    "        self.val = x\n",
    "        self.next = None"
   ]
  },
  {
   "cell_type": "code",
   "execution_count": 7,
   "metadata": {},
   "outputs": [],
   "source": [
    "class Solution:\n",
    "    def addTwoNumbers(self, l1: ListNode, l2: ListNode) -> ListNode:\n",
    "        ans = ListNode(0)\n",
    "        old_node = ans\n",
    "        carry=0\n",
    "        while l1 and l2:\n",
    "            new_node = ListNode((l1.val+l2.val+carry)%10)\n",
    "            carry = (l1.val+l2.val+carry)//10\n",
    "            old_node.next = new_node\n",
    "            old_node = old_node.next\n",
    "            l1 = l1.next\n",
    "            l2 = l2.next\n",
    "        while l1:\n",
    "            new_node = ListNode((l1.val+carry)%10)\n",
    "            carry = (l1.val+carry)//10\n",
    "            old_node.next = new_node\n",
    "            old_node = old_node.next\n",
    "            l1 = l1.next\n",
    "        while l2:\n",
    "            new_node = ListNode((l2.val+carry)%10)\n",
    "            carry = (l2.val+carry)//10\n",
    "            old_node.next = new_node\n",
    "            old_node = old_node.next\n",
    "            l2 = l2.next\n",
    "        if carry == 1:\n",
    "            old_node.next = ListNode(1) \n",
    "            \n",
    "        return ans.next"
   ]
  },
  {
   "cell_type": "code",
   "execution_count": 9,
   "metadata": {},
   "outputs": [],
   "source": [
    "test = Solution()"
   ]
  },
  {
   "cell_type": "code",
   "execution_count": 11,
   "metadata": {},
   "outputs": [
    {
     "name": "stdout",
     "output_type": "stream",
     "text": [
      "7 0 8 \n"
     ]
    }
   ],
   "source": [
    "list_tool.print_list(test.addTwoNumbers(list_tool.build_list([2,4,3]),\n",
    "                                        list_tool.build_list([5,6,4])))"
   ]
  },
  {
   "cell_type": "code",
   "execution_count": 14,
   "metadata": {},
   "outputs": [
    {
     "name": "stdout",
     "output_type": "stream",
     "text": [
      "7 0 0 1 \n"
     ]
    }
   ],
   "source": [
    "list_tool.print_list(test.addTwoNumbers(list_tool.build_list([2,4,4]),\n",
    "                                        list_tool.build_list([5,6,5])))"
   ]
  },
  {
   "cell_type": "code",
   "execution_count": 15,
   "metadata": {},
   "outputs": [
    {
     "name": "stdout",
     "output_type": "stream",
     "text": [
      "7 0 0 1 \n"
     ]
    }
   ],
   "source": [
    "list_tool.print_list(test.addTwoNumbers(list_tool.build_list([2,4,9]),\n",
    "                                        list_tool.build_list([5,6])))"
   ]
  }
 ],
 "metadata": {
  "kernelspec": {
   "display_name": "Python 3",
   "language": "python",
   "name": "python3"
  },
  "language_info": {
   "codemirror_mode": {
    "name": "ipython",
    "version": 3
   },
   "file_extension": ".py",
   "mimetype": "text/x-python",
   "name": "python",
   "nbconvert_exporter": "python",
   "pygments_lexer": "ipython3",
   "version": "3.7.6"
  }
 },
 "nbformat": 4,
 "nbformat_minor": 4
}
