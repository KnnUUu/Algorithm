{
 "cells": [
  {
   "cell_type": "code",
   "execution_count": 102,
   "metadata": {},
   "outputs": [],
   "source": [
    "class Solution:\n",
    "    def addStrings(self, num1: str, num2: str) -> str:\n",
    "        ans = ''\n",
    "        carry = 0\n",
    "        \n",
    "        if len(num1)>=len(num2):\n",
    "            long,short = num1,num2\n",
    "        else:\n",
    "            long,short = num2,num1\n",
    "            \n",
    "        for i in range(len(short)):\n",
    "            digit_sum = int(short[len(short)-1-i])+int(long[len(long)-1-i])+carry\n",
    "            carry = 1 if digit_sum>=10 else 0\n",
    "            ans = str(digit_sum)[-1] + ans\n",
    "            \n",
    "        for j in range(len(short),len(long)):\n",
    "            if carry == 1:\n",
    "                digit_sum = int(long[len(long)-1-j])+carry\n",
    "                carry = 1 if digit_sum>=10 else 0\n",
    "                ans = str(digit_sum)[-1] + ans\n",
    "            else:\n",
    "                ans = long[:len(long)-j] + ans\n",
    "                break\n",
    "                \n",
    "        if carry == 1: \n",
    "            ans = '1' + ans\n",
    "            \n",
    "        return ans"
   ]
  },
  {
   "cell_type": "code",
   "execution_count": 103,
   "metadata": {},
   "outputs": [],
   "source": [
    "test = Solution()"
   ]
  },
  {
   "cell_type": "code",
   "execution_count": 104,
   "metadata": {},
   "outputs": [],
   "source": [
    "assert test.addStrings('1','2')=='3'"
   ]
  },
  {
   "cell_type": "code",
   "execution_count": 105,
   "metadata": {},
   "outputs": [],
   "source": [
    "assert test.addStrings('1','234')=='235'"
   ]
  },
  {
   "cell_type": "code",
   "execution_count": 106,
   "metadata": {},
   "outputs": [],
   "source": [
    "assert test.addStrings('1','999')=='1000'"
   ]
  }
 ],
 "metadata": {
  "kernelspec": {
   "display_name": "Python 3",
   "language": "python",
   "name": "python3"
  },
  "language_info": {
   "codemirror_mode": {
    "name": "ipython",
    "version": 3
   },
   "file_extension": ".py",
   "mimetype": "text/x-python",
   "name": "python",
   "nbconvert_exporter": "python",
   "pygments_lexer": "ipython3",
   "version": "3.7.3"
  }
 },
 "nbformat": 4,
 "nbformat_minor": 2
}
