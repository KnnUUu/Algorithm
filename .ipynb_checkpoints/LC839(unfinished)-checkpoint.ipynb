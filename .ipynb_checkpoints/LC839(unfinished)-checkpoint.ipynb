{
 "cells": [
  {
   "cell_type": "code",
   "execution_count": 61,
   "metadata": {},
   "outputs": [],
   "source": [
    "class Solution:\n",
    "    def numSimilarGroups(self, A) -> int:\n",
    "        if A == []:\n",
    "            return 0\n",
    "        \n",
    "        def similar(a,b):\n",
    "            count = 0\n",
    "            difference = set()\n",
    "            for i in range(len(a)):\n",
    "                if a[i]==b[i]: \n",
    "                    count+=1\n",
    "                else:\n",
    "                    difference.add(a[i])\n",
    "                    difference.add(b[i])\n",
    "            return count == len(a)-2 and len(difference)==2\n",
    "        \n",
    "        check = [False for i in range(len(A))]\n",
    "        check_count = 0\n",
    "        round_count = 0\n",
    "        range_l,range_r = 0,len(A)-1\n",
    "        while check_count < len(A):\n",
    "            if not check[range_l]:\n",
    "                check[range_l]=True\n",
    "                check_count+=1\n",
    "                stack = [A[range_l]]\n",
    "                range_l+=1\n",
    "                while stack:\n",
    "                    for i in range(range_l,range_r+1):\n",
    "                        if not check[i] and similar(stack[0],A[i]):\n",
    "                            check[i]=True\n",
    "                            check_count+=1\n",
    "                            stack.append(A[i])\n",
    "                            if range_l==i:\n",
    "                                range_l+=1\n",
    "                            if range_r==i:\n",
    "                                range_r-=1\n",
    "                    stack.pop(0)\n",
    "                round_count+=1\n",
    "            else:\n",
    "                range_l+=1\n",
    "            print(check)\n",
    "            print(range_l,range_r)\n",
    "        print(round_count)\n",
    "        return round_count"
   ]
  },
  {
   "cell_type": "code",
   "execution_count": 62,
   "metadata": {},
   "outputs": [],
   "source": [
    "test = Solution()"
   ]
  },
  {
   "cell_type": "code",
   "execution_count": 63,
   "metadata": {},
   "outputs": [
    {
     "name": "stdout",
     "output_type": "stream",
     "text": [
      "[True, True, True, False]\n",
      "3 3\n",
      "[True, True, True, True]\n",
      "4 3\n",
      "2\n"
     ]
    }
   ],
   "source": [
    "assert test.numSimilarGroups([\"tars\",\"rats\",\"arts\",\"star\"]) == 2"
   ]
  },
  {
   "cell_type": "code",
   "execution_count": 64,
   "metadata": {},
   "outputs": [],
   "source": [
    "input1 = [\"vftavczywz\",\n",
    "          \"zfzcayvtwv\",\n",
    "          \"vftazcvywz\",\n",
    "          \"ytcvfzwvza\",\n",
    "          \"atvcvzwfzy\",\n",
    "          \"vfwazcvytz\",\n",
    "          \"vwzfzvtyac\",\n",
    "          \"zwvycfzavt\",\n",
    "          \"zwvvcfzayt\",\n",
    "          \"wvzzfcatvy\"]"
   ]
  },
  {
   "cell_type": "code",
   "execution_count": 65,
   "metadata": {},
   "outputs": [
    {
     "name": "stdout",
     "output_type": "stream",
     "text": [
      "[True, False, True, False, False, True, False, False, False, False]\n",
      "1 9\n",
      "[True, True, True, False, False, True, False, False, False, False]\n",
      "2 9\n",
      "[True, True, True, False, False, True, False, False, False, False]\n",
      "3 9\n",
      "[True, True, True, True, False, True, False, False, False, False]\n",
      "4 9\n",
      "[True, True, True, True, True, True, False, False, False, False]\n",
      "5 9\n",
      "[True, True, True, True, True, True, False, False, False, False]\n",
      "6 9\n",
      "[True, True, True, True, True, True, True, False, False, False]\n",
      "7 9\n",
      "[True, True, True, True, True, True, True, True, True, False]\n",
      "9 9\n",
      "[True, True, True, True, True, True, True, True, True, True]\n",
      "10 9\n",
      "7\n"
     ]
    }
   ],
   "source": [
    "assert test.numSimilarGroups(input1) == 7"
   ]
  },
  {
   "cell_type": "code",
   "execution_count": 66,
   "metadata": {},
   "outputs": [],
   "source": [
    "input2 = [\"kccomwcgcs\",\n",
    "          \"socgcmcwkc\",\n",
    "          \"sgckwcmcoc\",\n",
    "          \"coswcmcgkc\",\n",
    "          \"cowkccmsgc\",\n",
    "          \"cosgmccwkc\",\n",
    "          \"sgmkwcccoc\",\n",
    "          \"coswmccgkc\",\n",
    "          \"kowcccmsgc\",\n",
    "          \"kgcomwcccs\"]"
   ]
  },
  {
   "cell_type": "code",
   "execution_count": 67,
   "metadata": {},
   "outputs": [
    {
     "name": "stdout",
     "output_type": "stream",
     "text": [
      "[True, False, False, False, False, False, False, False, False, True]\n",
      "1 8\n",
      "[True, True, False, False, False, False, False, False, False, True]\n",
      "2 8\n",
      "[True, True, True, False, False, False, True, False, False, True]\n",
      "3 8\n",
      "[True, True, True, True, False, True, True, True, False, True]\n",
      "4 8\n",
      "[True, True, True, True, True, True, True, True, True, True]\n",
      "5 7\n",
      "5\n"
     ]
    }
   ],
   "source": [
    "assert test.numSimilarGroups(input2) == 5"
   ]
  },
  {
   "cell_type": "code",
   "execution_count": null,
   "metadata": {},
   "outputs": [],
   "source": []
  }
 ],
 "metadata": {
  "kernelspec": {
   "display_name": "Python 3",
   "language": "python",
   "name": "python3"
  },
  "language_info": {
   "codemirror_mode": {
    "name": "ipython",
    "version": 3
   },
   "file_extension": ".py",
   "mimetype": "text/x-python",
   "name": "python",
   "nbconvert_exporter": "python",
   "pygments_lexer": "ipython3",
   "version": "3.7.1"
  }
 },
 "nbformat": 4,
 "nbformat_minor": 4
}
