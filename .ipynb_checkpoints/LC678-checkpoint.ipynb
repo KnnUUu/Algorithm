{
 "cells": [
  {
   "cell_type": "code",
   "execution_count": 28,
   "metadata": {},
   "outputs": [],
   "source": [
    "class Solution:\n",
    "    def checkValidString(self, s: str) -> bool:\n",
    "        low,high=0,0\n",
    "        for char in s:\n",
    "            if char=='(':\n",
    "                low+=1\n",
    "                high+=1\n",
    "            elif char==')':\n",
    "                low-=1\n",
    "                high-=1\n",
    "                if high<0: return False\n",
    "                low=max(0,low)\n",
    "            else: # *\n",
    "                low-=1\n",
    "                high+=1\n",
    "                if high<0: return False\n",
    "                low=max(0,low)\n",
    "        return low==0"
   ]
  },
  {
   "cell_type": "code",
   "execution_count": 29,
   "metadata": {},
   "outputs": [],
   "source": [
    "test = Solution()\n",
    "assert test.checkValidString('')==True\n",
    "assert test.checkValidString(\"()\")==True\n",
    "assert test.checkValidString(\"(*)\")==True\n",
    "assert test.checkValidString(\"(*))\")==True\n",
    "assert test.checkValidString(\"**))\")==True\n",
    "assert test.checkValidString(\"(())**\")==True\n",
    "assert test.checkValidString(\"())**\")==False\n",
    "assert test.checkValidString(\"(*)))**\")==False\n",
    "assert test.checkValidString(\"(*)())*\")==True\n",
    "assert test.checkValidString(\"**(()\")==False"
   ]
  }
 ],
 "metadata": {
  "kernelspec": {
   "display_name": "Python 3",
   "language": "python",
   "name": "python3"
  },
  "language_info": {
   "codemirror_mode": {
    "name": "ipython",
    "version": 3
   },
   "file_extension": ".py",
   "mimetype": "text/x-python",
   "name": "python",
   "nbconvert_exporter": "python",
   "pygments_lexer": "ipython3",
   "version": "3.7.3"
  }
 },
 "nbformat": 4,
 "nbformat_minor": 2
}
