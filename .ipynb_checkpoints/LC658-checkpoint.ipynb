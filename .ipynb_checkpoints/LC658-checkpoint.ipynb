{
 "cells": [
  {
   "cell_type": "code",
   "execution_count": 126,
   "metadata": {},
   "outputs": [],
   "source": [
    "class Solution:\n",
    "    def findClosestElements(self, arr, k: int, x: int):\n",
    "        if k==0 or arr==[]: return []\n",
    "        diff = abs(arr[0]-x)\n",
    "        closest=0\n",
    "        \n",
    "        for i in range(1,len(arr)):\n",
    "            if abs(arr[i]-x)<=diff:\n",
    "                closest=i\n",
    "                diff = abs(arr[i]-x)\n",
    "            else:\n",
    "                break\n",
    "                    \n",
    "        l,r = closest,closest\n",
    "        count = 1\n",
    "        while k>count:\n",
    "            if l==0 or r==len(arr)-1:\n",
    "                break\n",
    "            diff_l = x-arr[l-1]\n",
    "            diff_r = arr[r+1]-x\n",
    "            if diff_l<=diff_r:\n",
    "                l-=1\n",
    "            else:\n",
    "                r+=1\n",
    "            count+=1\n",
    "            \n",
    "        if l==0: return arr[:k]\n",
    "        elif r==len(arr)-1: return arr[len(arr)-k:]\n",
    "        elif count==k: return arr[l:r+1]"
   ]
  }
 ],
 "metadata": {
  "kernelspec": {
   "display_name": "Python 3",
   "language": "python",
   "name": "python3"
  },
  "language_info": {
   "codemirror_mode": {
    "name": "ipython",
    "version": 3
   },
   "file_extension": ".py",
   "mimetype": "text/x-python",
   "name": "python",
   "nbconvert_exporter": "python",
   "pygments_lexer": "ipython3",
   "version": "3.7.3"
  }
 },
 "nbformat": 4,
 "nbformat_minor": 4
}
