{
 "cells": [
  {
   "cell_type": "code",
   "execution_count": 19,
   "metadata": {},
   "outputs": [],
   "source": [
    "class Solution:\n",
    "    def wordBreak(self, s, wordDict) -> bool:\n",
    "        if not s: return True\n",
    "        return any([s[:len(word)]==word and self.wordBreak(s[len(word):],wordDict) for word in wordDict])"
   ]
  },
  {
   "cell_type": "markdown",
   "metadata": {},
   "source": [
    "### TLE"
   ]
  },
  {
   "cell_type": "code",
   "execution_count": 21,
   "metadata": {},
   "outputs": [],
   "source": [
    "class Solution:\n",
    "    def wordBreak(self, s, wordDict) -> bool:\n",
    "        def dp(start):\n",
    "            if start==len(s): return True\n",
    "            for word in wordDict:\n",
    "                if s[start:start+len(word)]==word and dp(start+len(word)): return True\n",
    "            return False\n",
    "        return dp(0)"
   ]
  },
  {
   "cell_type": "markdown",
   "metadata": {},
   "source": [
    "### TLE -> i think the reason is one index has been calculated too much time"
   ]
  },
  {
   "cell_type": "code",
   "execution_count": 74,
   "metadata": {},
   "outputs": [],
   "source": [
    "class Solution:\n",
    "    def wordBreak(self, s, wordDict) -> bool:\n",
    "        can_reach = [False for i in range(len(s)+1)]\n",
    "        can_reach[0] = True\n",
    "        for i in range(len(s)):\n",
    "            if can_reach[i]:\n",
    "                for word in wordDict:\n",
    "                    if s[i:i+len(word)]==word:\n",
    "                        can_reach[i+len(word)] = True\n",
    "        return can_reach[-1]"
   ]
  },
  {
   "cell_type": "markdown",
   "metadata": {},
   "source": [
    "### AC"
   ]
  },
  {
   "cell_type": "code",
   "execution_count": 75,
   "metadata": {},
   "outputs": [],
   "source": [
    "test = Solution()\n",
    "assert test.wordBreak(s = \"leetcode\", wordDict = [\"leet\", \"code\"]) == True\n",
    "assert test.wordBreak(s = \"leetcode\", wordDict = [\"leet\", \"code\", \"codssse\"]) == True\n",
    "assert test.wordBreak(s = \"applepenapple\", wordDict = [\"apple\", \"pen\"]) == True\n",
    "assert test.wordBreak(s = \"catsandog\", wordDict = [\"cats\", \"dog\", \"sand\", \"and\", \"cat\"]) == False\n",
    "assert test.wordBreak(s = \"cars\", wordDict = [\"car\",\"ca\",\"rs\"]) == True\n",
    "assert test.wordBreak(s = \"aaaaaaaaaaaaaaaaaaaaaaaaaaaaaaaaaaaaaaaaaaaaaaaaaaaaaaaaaaaaaaaaaaaaaaaaaaaaaaaaaaaaaaaaaaaaaaaaaaaaaaaaaaaaaaaaaaaaaaaaaaaaaaaaaaaaaaaaaaaaaaaaaaaaaab\"\n",
    "                      , wordDict = [\"a\",\"aa\",\"aaa\",\"aaaa\",\"aaaaa\",\"aaaaaa\",\"aaaaaaa\",\"aaaaaaaa\",\"aaaaaaaaa\",\"aaaaaaaaaa\"])==False"
   ]
  }
 ],
 "metadata": {
  "kernelspec": {
   "display_name": "Python 3",
   "language": "python",
   "name": "python3"
  },
  "language_info": {
   "codemirror_mode": {
    "name": "ipython",
    "version": 3
   },
   "file_extension": ".py",
   "mimetype": "text/x-python",
   "name": "python",
   "nbconvert_exporter": "python",
   "pygments_lexer": "ipython3",
   "version": "3.7.3"
  }
 },
 "nbformat": 4,
 "nbformat_minor": 2
}
