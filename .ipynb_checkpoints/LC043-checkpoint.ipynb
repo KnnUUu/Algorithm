{
 "cells": [
  {
   "cell_type": "code",
   "execution_count": 22,
   "metadata": {},
   "outputs": [],
   "source": [
    "class Solution:\n",
    "    def multiply(self, num1: str, num2: str) -> str:\n",
    "        int2str_dic = dict()\n",
    "        str2int_dic = dict()\n",
    "        num_str = \"0123456789\"\n",
    "        for i in range(len(num_str)):\n",
    "            str2int_dic[num_str[i]]=i\n",
    "            int2str_dic[i]=num_str[i]\n",
    "            \n",
    "        def to_int(s):\n",
    "            num_sum = 0\n",
    "            for i in range(len(s)):\n",
    "                num_sum += 10**(len(s)-1-i)*str2int_dic[s[i]]\n",
    "            return num_sum\n",
    "        \n",
    "        ans_int = to_int(num1)*to_int(num2)\n",
    "        if ans_int == 0: return \"0\"\n",
    "        ans_str = \"\"\n",
    "        while ans_int:\n",
    "            ans_str = int2str_dic[ans_int%10] + ans_str\n",
    "            ans_int = ans_int//10\n",
    "            \n",
    "        return ans_str"
   ]
  },
  {
   "cell_type": "code",
   "execution_count": 23,
   "metadata": {},
   "outputs": [],
   "source": [
    "test = Solution()\n",
    "assert test.multiply(num1 = \"2\", num2 = \"3\")==\"6\"\n",
    "assert test.multiply(num1 = \"0\", num2 = \"0\")==\"0\"\n",
    "assert test.multiply(num1 = \"123\", num2 = \"456\")==\"56088\""
   ]
  }
 ],
 "metadata": {
  "kernelspec": {
   "display_name": "Python 3",
   "language": "python",
   "name": "python3"
  },
  "language_info": {
   "codemirror_mode": {
    "name": "ipython",
    "version": 3
   },
   "file_extension": ".py",
   "mimetype": "text/x-python",
   "name": "python",
   "nbconvert_exporter": "python",
   "pygments_lexer": "ipython3",
   "version": "3.7.3"
  }
 },
 "nbformat": 4,
 "nbformat_minor": 2
}
