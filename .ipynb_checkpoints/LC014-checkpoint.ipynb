{
 "cells": [
  {
   "cell_type": "code",
   "execution_count": 5,
   "metadata": {},
   "outputs": [],
   "source": [
    "class Solution:\n",
    "    def longestCommonPrefix(self, strs) -> str:\n",
    "        if not strs: return ''\n",
    "        \n",
    "        def common_prefix(str1,str2):\n",
    "            for i in range(min(len(str1),len(str2))):\n",
    "                if str1[i]!=str2[i]:\n",
    "                    return str1[:i]\n",
    "            return str1[:min(len(str1),len(str2))]\n",
    "                \n",
    "        ans = strs[0]\n",
    "        for i in range(1,len(strs)):\n",
    "            ans = common_prefix(ans,strs[i])\n",
    "        return ans"
   ]
  },
  {
   "cell_type": "code",
   "execution_count": 6,
   "metadata": {},
   "outputs": [],
   "source": [
    "test = Solution()\n",
    "assert test.longestCommonPrefix([\"flower\",\"flow\",\"flight\"])==\"fl\"\n",
    "assert test.longestCommonPrefix([\"dog\",\"racecar\",\"car\"])==\"\"\n",
    "assert test.longestCommonPrefix([])==\"\""
   ]
  }
 ],
 "metadata": {
  "kernelspec": {
   "display_name": "Python 3",
   "language": "python",
   "name": "python3"
  },
  "language_info": {
   "codemirror_mode": {
    "name": "ipython",
    "version": 3
   },
   "file_extension": ".py",
   "mimetype": "text/x-python",
   "name": "python",
   "nbconvert_exporter": "python",
   "pygments_lexer": "ipython3",
   "version": "3.7.3"
  }
 },
 "nbformat": 4,
 "nbformat_minor": 2
}
