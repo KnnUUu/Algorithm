{
 "cells": [
  {
   "cell_type": "code",
   "execution_count": 3,
   "metadata": {},
   "outputs": [],
   "source": [
    "class Solution:\n",
    "    def numEnclaves(self, A) -> int:\n",
    "        def flip(i,j):\n",
    "            if i<0 or j<0 or i>=len(A) or j>=len(A[0]) or A[i][j]==0: return\n",
    "            A[i][j] = 0\n",
    "            \n",
    "            flip(i+1,j)\n",
    "            flip(i-1,j)\n",
    "            flip(i,j+1)\n",
    "            flip(i,j-1)\n",
    "\n",
    "        for i in range(len(A)):\n",
    "            flip(i,0)\n",
    "            flip(i,len(A[0])-1)\n",
    "        for j in range(1,len(A[0])-1):\n",
    "            flip(0,j)\n",
    "            flip(len(A)-1,j)\n",
    "            \n",
    "        return sum([sum(line) for line in A])"
   ]
  }
 ],
 "metadata": {
  "kernelspec": {
   "display_name": "Python 3",
   "language": "python",
   "name": "python3"
  },
  "language_info": {
   "codemirror_mode": {
    "name": "ipython",
    "version": 3
   },
   "file_extension": ".py",
   "mimetype": "text/x-python",
   "name": "python",
   "nbconvert_exporter": "python",
   "pygments_lexer": "ipython3",
   "version": "3.7.3"
  }
 },
 "nbformat": 4,
 "nbformat_minor": 2
}
